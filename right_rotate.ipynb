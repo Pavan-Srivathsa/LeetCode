{
 "cells": [
  {
   "cell_type": "code",
   "execution_count": null,
   "metadata": {},
   "outputs": [],
   "source": []
  },
  {
   "cell_type": "code",
   "execution_count": null,
   "metadata": {},
   "outputs": [],
   "source": [
    "class Solution(object):\n",
    "    def rotate(self, nums, k):\n",
    "        \"\"\"\n",
    "        :type nums: List[int]\n",
    "        :type k: int\n",
    "        :rtype: None Do not return anything, modify nums in-place instead.\n",
    "        \"\"\"\n",
    "        k = k%len(nums) # if the k> len of list then we mode to get the new index\n",
    "        temp = nums[-k:] if k else [] # if k is 0 then don't copy any new number from the list\n",
    "        for i in range(len(nums)-k-1,-1,-1): # start from the n-k-1th position and add k (gives the last pos) then asign the number at i.\n",
    "            nums[i+k] = nums[i]\n",
    "        nums[:k]=temp\n"
   ]
  },
  {
   "cell_type": "code",
   "execution_count": null,
   "metadata": {},
   "outputs": [],
   "source": [
    "## write Optimized solution\n",
    "## Hint: Use reverse"
   ]
  }
 ],
 "metadata": {
  "language_info": {
   "name": "python"
  }
 },
 "nbformat": 4,
 "nbformat_minor": 2
}
