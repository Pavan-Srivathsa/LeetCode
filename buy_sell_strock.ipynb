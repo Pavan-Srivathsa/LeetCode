{
 "cells": [
  {
   "cell_type": "markdown",
   "metadata": {},
   "source": [
    "Brute Force"
   ]
  },
  {
   "cell_type": "code",
   "execution_count": null,
   "metadata": {},
   "outputs": [],
   "source": [
    "import sys\n",
    "class Solution(object):\n",
    "    def maxProfit(self, prices):\n",
    "        \"\"\"\n",
    "        :type prices: List[int]\n",
    "        :rtype: int\n",
    "        \"\"\"\n",
    "        maxSum = 0\n",
    "        l=[]\n",
    "        diff = 0\n",
    "        for i in range(len(prices)):\n",
    "            for j in range(i+1,len(prices)):\n",
    "                if prices[i]<prices[j]:\n",
    "                    diff = prices[j] - prices[i]\n",
    "                if diff>maxSum:\n",
    "                    maxSum=diff\n",
    "            l.append(maxSum)\n",
    "        return max(l)\n",
    "\n",
    "        "
   ]
  },
  {
   "cell_type": "markdown",
   "metadata": {},
   "source": [
    "Optimized:\n",
    "- Intuition: We will linearly travel the array. We can maintain a minimum from the start of the array and compare it with every element of the array, if it is greater than the minimum then take the difference and maintain it in max, otherwise update the minimum.\n",
    "\n",
    "Approach:\n",
    "\n",
    "- Create a variable maxPro and store 0 initially.\n",
    "- Create a variable minPrice and store some larger value(ex: MAX_VALUE) value initially.\n",
    "- Run a for loop from 0 to n.\n",
    "- Update the minPrice if it is greater than the current element of the array\n",
    "- Take the difference of the minPrice with the current element of the array and compare and maintain it in maxPro.\n",
    "- Return the maxPro."
   ]
  },
  {
   "cell_type": "code",
   "execution_count": null,
   "metadata": {},
   "outputs": [],
   "source": [
    "class Solution(object):\n",
    "    def maxProfit(self, prices):\n",
    "        \"\"\"\n",
    "        :type prices: List[int]\n",
    "        :rtype: int\n",
    "        \"\"\"\n",
    "        minE=prices[0]\n",
    "        maxE=0\n",
    "        for i in range(1,len(prices)):\n",
    "            if prices[i]<minE:\n",
    "                minE = prices[i]\n",
    "            if  (prices[i]-minE) > maxE:\n",
    "                maxE = prices[i]-minE\n",
    "        return maxE"
   ]
  }
 ],
 "metadata": {
  "language_info": {
   "name": "python"
  }
 },
 "nbformat": 4,
 "nbformat_minor": 2
}
