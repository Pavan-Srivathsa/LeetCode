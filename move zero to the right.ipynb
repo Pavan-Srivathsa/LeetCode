{
 "cells": [
  {
   "cell_type": "code",
   "execution_count": null,
   "metadata": {},
   "outputs": [],
   "source": [
    "class Solution(object):\n",
    "    def moveZeroes(self, nums):\n",
    "        \"\"\"\n",
    "        :type nums: List[int]\n",
    "        :rtype: None Do not return anything, modify nums in-place instead.\n",
    "        \"\"\"\n",
    "        non_zero_index = 0  # Pointer for the next non-zero element\n",
    "\n",
    "        # First pass: move non-zero elements to the beginning of the array\n",
    "        for i in range(len(nums)):\n",
    "            if nums[i] != 0:\n",
    "                nums[non_zero_index] = nums[i]\n",
    "                non_zero_index += 1\n",
    "\n",
    "        # Second pass: fill the remaining elements with zeroes\n",
    "        for i in range(non_zero_index, len(nums)):\n",
    "            nums[i] = 0"
   ]
  },
  {
   "cell_type": "code",
   "execution_count": null,
   "metadata": {},
   "outputs": [],
   "source": [
    "\"\"\"\n",
    "input: \n",
    "[0,1,0,3,12]\n",
    "output:\n",
    "[1, 1, 0, 3, 12]\n",
    "[1, 3, 0, 3, 12]\n",
    "[1, 3, 12, 3, 12]\n",
    "\"\"\""
   ]
  }
 ],
 "metadata": {
  "language_info": {
   "name": "python"
  }
 },
 "nbformat": 4,
 "nbformat_minor": 2
}
