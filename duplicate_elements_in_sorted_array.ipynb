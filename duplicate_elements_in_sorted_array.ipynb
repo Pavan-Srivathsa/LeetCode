{
 "cells": [
  {
   "cell_type": "code",
   "execution_count": null,
   "metadata": {},
   "outputs": [],
   "source": [
    "## Concept is find unique elements and store it one after the other. Then pos has the number of elements to be kept in array. Use pos to slice the list in the end"
   ]
  },
  {
   "cell_type": "code",
   "execution_count": null,
   "metadata": {},
   "outputs": [],
   "source": [
    "class Solution(object):\n",
    "    def removeDuplicates(self, nums):\n",
    "        \"\"\"\n",
    "        :type nums: List[int]\n",
    "        :rtype: int\n",
    "        \"\"\"\n",
    "        f = nums[0]\n",
    "        pos = 0\n",
    "        for i in range(1,len(nums)):\n",
    "            s = nums[i]\n",
    "            if s != f:\n",
    "                f = s\n",
    "                pos+= 1\n",
    "            nums[pos] = s\n",
    "        nums = nums[:pos+1]\n",
    "        return len(nums)\n"
   ]
  },
  {
   "cell_type": "markdown",
   "metadata": {},
   "source": [
    "## Chatgpt\n",
    "\n",
    "Explanation:\n",
    "Initial Check:\n",
    "\n",
    "The function first checks if nums is empty. If it is, it returns 0 since there are no elements in the list.\n",
    "Pointer pos:\n",
    "\n",
    "pos keeps track of the position where the next unique element should be placed. It starts from 0 since the first element is always unique.\n",
    "Loop Through the List:\n",
    "\n",
    "Start from the second element and iterate through the list.\n",
    "For each element, if it's not equal to the last unique element (tracked by nums[pos]), increment pos and update nums[pos] with this new unique element.\n",
    "Return the New Length:\n",
    "\n",
    "The length of the list without duplicates is pos + 1.\n",
    "Example Walkthrough:\n",
    "Input: nums = [1, 1, 2, 2, 3]\n",
    "Processing:\n",
    "Initial: pos = 0, nums = [1, 1, 2, 2, 3]\n",
    "i = 1: nums[i] == nums[pos] (both are 1), so skip.\n",
    "i = 2: nums[i] != nums[pos] (2 != 1), so pos = 1, nums[1] = 2.\n",
    "i = 3: nums[i] == nums[pos] (both are 2), so skip.\n",
    "i = 4: nums[i] != nums[pos] (3 != 2), so pos = 2, nums[2] = 3.\n",
    "Output: The list is modified in place to [1, 2, 3, 2, 3], and the function returns 3.\n",
    "The function modifies the first part of the list to contain the unique elements in the original order, and the returned length indicates the number of unique elements."
   ]
  },
  {
   "cell_type": "code",
   "execution_count": null,
   "metadata": {},
   "outputs": [],
   "source": [
    "class Solution(object):\n",
    "    def removeDuplicates(self, nums):\n",
    "        \"\"\"\n",
    "        :type nums: List[int]\n",
    "        :rtype: int\n",
    "        \"\"\"\n",
    "        if not nums:\n",
    "            return 0\n",
    "\n",
    "        pos = 0\n",
    "        for i in range(1, len(nums)):\n",
    "            if nums[i] != nums[pos]:\n",
    "                pos += 1\n",
    "                nums[pos] = nums[i]\n",
    "\n",
    "        return pos + 1"
   ]
  }
 ],
 "metadata": {
  "language_info": {
   "name": "python"
  }
 },
 "nbformat": 4,
 "nbformat_minor": 2
}
