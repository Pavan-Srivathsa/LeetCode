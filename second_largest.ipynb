{
 "cells": [
  {
   "cell_type": "code",
   "execution_count": null,
   "metadata": {},
   "outputs": [],
   "source": [
    "## Given an array arr, return the second largest distinct element from an array. If the second largest element doesn't exist then return -1."
   ]
  },
  {
   "cell_type": "code",
   "execution_count": null,
   "metadata": {},
   "outputs": [],
   "source": [
    "def print2largest(self, arr):\n",
    "    # Code Here\n",
    "    largest = arr[0]\n",
    "    slargest = -1\n",
    "    \n",
    "    for i in arr[1:]:\n",
    "        if i>largest:\n",
    "            if largest > slargest:\n",
    "                slargest = largest\n",
    "                largest = i\n",
    "        \n",
    "        elif i != largest and i>slargest:\n",
    "                slargest = i\n",
    "    return slargest"
   ]
  }
 ],
 "metadata": {
  "language_info": {
   "name": "python"
  }
 },
 "nbformat": 4,
 "nbformat_minor": 2
}
