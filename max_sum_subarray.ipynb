{
 "cells": [
  {
   "cell_type": "markdown",
   "metadata": {},
   "source": [
    "Intuition:\n",
    "The intuition of the algorithm is not to consider the subarray as a part of the answer if its sum is less than 0. A subarray with a sum less than 0 will always reduce our answer and so this type of subarray cannot be a part of the subarray with maximum sum.\n",
    "\n",
    "Here, we will iterate the given array with a single loop and while iterating we will add the elements in a sum variable. Now, if at any point the sum becomes less than 0, we will set the sum as 0 as we are not going to consider any subarray with a negative sum. Among all the sums calculated, we will consider the maximum one.\n",
    "\n",
    "Thus we can solve this problem with a single loop.\n",
    "\n",
    "Approach:\n",
    "The steps are as follows:\n",
    "\n",
    "We will run a loop(say i) to iterate the given array.\n",
    "Now, while iterating we will add the elements to the sum variable and consider the maximum one.\n",
    "If at any point the sum becomes negative we will set the sum to 0 as we are not going to consider it as a part of our answer.\n",
    "Note: In some cases, the question might say to consider the sum of the empty subarray while solving this problem. So, in these cases, before returning the answer we will compare the maximum subarray sum calculated with 0(i.e. The sum of an empty subarray is 0). And after that, we will return the maximum one.\n",
    "For e.g. if the given array is {-1, -4, -5}, the answer will be 0 instead of -1 in this case. \n",
    "\n",
    "This is applicable to all the approaches discussed above.\n",
    "\n",
    "But if this case is not explicitly mentioned we will not consider this case.\n",
    "\n",
    "Note: For a better understanding of intuition, please watch the video at the bottom of the page."
   ]
  },
  {
   "cell_type": "markdown",
   "metadata": {},
   "source": [
    "Given an integer array nums, find the \n",
    "subarray\n",
    " with the largest sum, and return its sum.\n",
    "\n",
    " \n",
    "\n",
    "Example 1:\n",
    "\n",
    "Input: nums = [-2,1,-3,4,-1,2,1,-5,4]\n",
    "Output: 6\n",
    "Explanation: The subarray [4,-1,2,1] has the largest sum 6.\n",
    "Example 2:\n",
    "\n",
    "Input: nums = [1]\n",
    "Output: 1\n",
    "Explanation: The subarray [1] has the largest sum 1.\n",
    "Example 3:\n",
    "\n",
    "Input: nums = [5,4,-1,7,8]\n",
    "Output: 23\n",
    "Explanation: The subarray [5,4,-1,7,8] has the largest sum 23."
   ]
  },
  {
   "cell_type": "code",
   "execution_count": null,
   "metadata": {},
   "outputs": [],
   "source": [
    "import sys\n",
    "class Solution(object):\n",
    "    def maxSubArray(self, nums):\n",
    "        \"\"\"\n",
    "        :type nums: List[int]\n",
    "        :rtype: int\n",
    "        \"\"\"\n",
    "        maxi=-sys.maxsize - 1 \n",
    "        summ = 0\n",
    "        for i in range(len(nums)):\n",
    "            summ+=nums[i]\n",
    "            maxi=max(maxi,summ)\n",
    "            if summ<0:\n",
    "                summ=0\n",
    "        # if maxi<0:\n",
    "        #     return 0\n",
    "        else:\n",
    "            return maxi"
   ]
  }
 ],
 "metadata": {
  "language_info": {
   "name": "python"
  }
 },
 "nbformat": 4,
 "nbformat_minor": 2
}
