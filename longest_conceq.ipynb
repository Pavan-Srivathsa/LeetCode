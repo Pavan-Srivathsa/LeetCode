{
 "cells": [
  {
   "cell_type": "code",
   "execution_count": null,
   "metadata": {},
   "outputs": [],
   "source": [
    "class Solution(object):\n",
    "    def longestConsecutive(self, a):\n",
    "        \"\"\"\n",
    "        :type nums: List[int]\n",
    "        :rtype: int\n",
    "        \"\"\"\n",
    "        n = len(a)\n",
    "        if n == 0:\n",
    "            return 0\n",
    "\n",
    "        longest = 1\n",
    "        st = set()\n",
    "        # put all the array elements into set\n",
    "        for i in range(n):\n",
    "            st.add(a[i])\n",
    "\n",
    "        # Find the longest sequence\n",
    "        for it in st:\n",
    "            # if 'it' is a starting number\n",
    "            if it - 1 not in st:\n",
    "                # find consecutive numbers\n",
    "                cnt = 1\n",
    "                x = it\n",
    "                while x + 1 in st:\n",
    "                    x += 1\n",
    "                    cnt += 1\n",
    "                longest = max(longest, cnt)\n",
    "        return longest\n",
    "\n",
    "        "
   ]
  }
 ],
 "metadata": {
  "language_info": {
   "name": "python"
  }
 },
 "nbformat": 4,
 "nbformat_minor": 2
}
