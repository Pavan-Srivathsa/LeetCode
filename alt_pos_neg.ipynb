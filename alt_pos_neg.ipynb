{
 "cells": [
  {
   "cell_type": "markdown",
   "metadata": {},
   "source": [
    "You are given an array prices where prices[i] is the price of a given stock on the ith day.\n",
    "\n",
    "You want to maximize your profit by choosing a single day to buy one stock and choosing a different day in the future to sell that stock.\n",
    "\n",
    "Return the maximum profit you can achieve from this transaction. If you cannot achieve any profit, return 0.\n",
    "\n",
    " \n",
    "\n",
    "Example 1:\n",
    "\n",
    "Input: prices = [7,1,5,3,6,4]\n",
    "Output: 5\n",
    "Explanation: Buy on day 2 (price = 1) and sell on day 5 (price = 6), profit = 6-1 = 5.\n",
    "Note that buying on day 2 and selling on day 1 is not allowed because you must buy before you sell.\n",
    "Example 2:\n",
    "\n",
    "Input: prices = [7,6,4,3,1]\n",
    "Output: 0\n",
    "Explanation: In this case, no transactions are done and the max profit = 0."
   ]
  },
  {
   "cell_type": "code",
   "execution_count": null,
   "metadata": {},
   "outputs": [],
   "source": [
    "class Solution(object):\n",
    "    def rearrangeArray(self, nums):\n",
    "        \"\"\"\n",
    "        :type nums: List[int]\n",
    "        :rtype: List[int]\n",
    "        \"\"\"\n",
    "        # Initialize two empty lists to separate positive and negative numbers\n",
    "        l_pos = []\n",
    "        l_neg = []\n",
    "\n",
    "        # Iterate through the input list to separate positive and negative numbers\n",
    "        for i in range(len(nums)):\n",
    "            if nums[i] >= 0:\n",
    "                l_pos.append(nums[i])  # Add positive numbers to l_pos list\n",
    "            elif nums[i] < 0:\n",
    "                l_neg.append(nums[i])  # Add negative numbers to l_neg list\n",
    "\n",
    "        # Initialize two pointers for positive and negative lists\n",
    "        p = 0\n",
    "        n = 0\n",
    "\n",
    "        # Iterate through the input list to rearrange it with alternating positive and negative numbers\n",
    "        for i in range(len(nums)):\n",
    "            if i % 2 == 0:\n",
    "                # For even indices, assign a positive number from l_pos\n",
    "                nums[i] = l_pos[p]\n",
    "                p += 1  # Move the pointer to the next positive number\n",
    "            else:\n",
    "                # For odd indices, assign a negative number from l_neg\n",
    "                nums[i] = l_neg[n]\n",
    "                n += 1  # Move the pointer to the next negative number\n",
    "\n",
    "        # Return the rearranged list\n",
    "        return nums"
   ]
  }
 ],
 "metadata": {
  "language_info": {
   "name": "python"
  }
 },
 "nbformat": 4,
 "nbformat_minor": 2
}
