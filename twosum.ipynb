{
 "cells": [
  {
   "cell_type": "code",
   "execution_count": null,
   "metadata": {},
   "outputs": [],
   "source": [
    "class Solution:\n",
    "    def twoSum(self, nums: List[int], target: int) -> List[int]:\n",
    "        d={}\n",
    "        for i in range(len(nums)):\n",
    "            # print(d)\n",
    "            if target-nums[i] in d.keys():\n",
    "                return [i,d[target-nums[i]]]\n",
    "            else:\n",
    "                d[nums[i]]=i\n",
    "        \n",
    "\n"
   ]
  }
 ],
 "metadata": {
  "language_info": {
   "name": "python"
  }
 },
 "nbformat": 4,
 "nbformat_minor": 2
}
